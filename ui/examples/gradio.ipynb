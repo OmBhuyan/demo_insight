{
 "cells": [
  {
   "cell_type": "code",
   "execution_count": 1,
   "metadata": {},
   "outputs": [
    {
     "name": "stderr",
     "output_type": "stream",
     "text": [
      "/home/chetan/miniconda3/envs/tigernlp/lib/python3.10/site-packages/tqdm/auto.py:21: TqdmWarning: IProgress not found. Please update jupyter and ipywidgets. See https://ipywidgets.readthedocs.io/en/stable/user_install.html\n",
      "  from .autonotebook import tqdm as notebook_tqdm\n"
     ]
    }
   ],
   "source": [
    "import textwrap\n",
    "import time\n",
    "import sys\n",
    "\n",
    "import gradio as gr\n",
    "\n",
    "from query_insights.api import QueryInsights\n",
    "\n",
    "sys.path.insert(0,\"../gradio/app_files\")\n",
    "from app import ChatUI"
   ]
  },
  {
   "cell_type": "code",
   "execution_count": 2,
   "metadata": {},
   "outputs": [
    {
     "name": "stdout",
     "output_type": "stream",
     "text": [
      "Running on local URL:  http://127.0.0.1:7860\n",
      "\n",
      "To create a public link, set `share=True` in `launch()`.\n"
     ]
    },
    {
     "data": {
      "text/html": [
       "<div><iframe src=\"http://127.0.0.1:7860/\" width=\"100%\" height=\"500\" allow=\"autoplay; camera; microphone; clipboard-read; clipboard-write;\" frameborder=\"0\" allowfullscreen></iframe></div>"
      ],
      "text/plain": [
       "<IPython.core.display.HTML object>"
      ]
     },
     "metadata": {},
     "output_type": "display_data"
    },
    {
     "name": "stderr",
     "output_type": "stream",
     "text": [
      "Some weights of the model checkpoint at bert-base-uncased were not used when initializing BertModel: ['cls.predictions.transform.LayerNorm.bias', 'cls.predictions.transform.dense.bias', 'cls.seq_relationship.weight', 'cls.seq_relationship.bias', 'cls.predictions.transform.dense.weight', 'cls.predictions.transform.LayerNorm.weight', 'cls.predictions.bias', 'cls.predictions.decoder.weight']\n",
      "- This IS expected if you are initializing BertModel from the checkpoint of a model trained on another task or with another architecture (e.g. initializing a BertForSequenceClassification model from a BertForPreTraining model).\n",
      "- This IS NOT expected if you are initializing BertModel from the checkpoint of a model that you expect to be exactly identical (initializing a BertForSequenceClassification model from a BertForSequenceClassification model).\n",
      "Traceback (most recent call last):\n",
      "  File \"/home/chetan/miniconda3/envs/tigernlp/lib/python3.10/site-packages/gradio/routes.py\", line 395, in run_predict\n",
      "    output = await app.get_blocks().process_api(\n",
      "  File \"/home/chetan/miniconda3/envs/tigernlp/lib/python3.10/site-packages/gradio/blocks.py\", line 1193, in process_api\n",
      "    result = await self.call_function(\n",
      "  File \"/home/chetan/miniconda3/envs/tigernlp/lib/python3.10/site-packages/gradio/blocks.py\", line 916, in call_function\n",
      "    prediction = await anyio.to_thread.run_sync(\n",
      "  File \"/home/chetan/miniconda3/envs/tigernlp/lib/python3.10/site-packages/anyio/to_thread.py\", line 31, in run_sync\n",
      "    return await get_asynclib().run_sync_in_worker_thread(\n",
      "  File \"/home/chetan/miniconda3/envs/tigernlp/lib/python3.10/site-packages/anyio/_backends/_asyncio.py\", line 937, in run_sync_in_worker_thread\n",
      "    return await future\n",
      "  File \"/home/chetan/miniconda3/envs/tigernlp/lib/python3.10/site-packages/anyio/_backends/_asyncio.py\", line 867, in run\n",
      "    result = context.run(func, *args)\n",
      "  File \"/home/chetan/query_chatgpt/query_insights_generator/ui/examples/../gradio/app_files/app.py\", line 198, in bot\n",
      "    bot_message = self.get_query(input_text=self.user_message)\n",
      "  File \"/home/chetan/query_chatgpt/query_insights_generator/ui/examples/../gradio/app_files/app.py\", line 63, in get_query\n",
      "    self.track1_response = self.qi.text_to_query(question=input_text, additional_context=None)\n",
      "  File \"/home/chetan/query_chatgpt/query_insights_generator/src/query_insights/main.py\", line 397, in text_to_query\n",
      "    self._preprocess(question=question, additional_context=additional_context)\n",
      "  File \"/home/chetan/query_chatgpt/query_insights_generator/src/query_insights/main.py\", line 162, in _preprocess\n",
      "    threshold = float(self.user_config.why_question_threshold)\n",
      "TypeError: float() argument must be a string or a real number, not 'DotifyDict'\n"
     ]
    }
   ],
   "source": [
    "# config_path = \"/mnt/d/query_to_insight/query_insights_generator/examples/end_to_end/config/config.yaml\"\n",
    "user_config_path = \"../gradio/app_files/config/prod/data_config_ui.yaml\"\n",
    "data_config_path = \"../gradio/app_files/config/prod/data_config_ui.yaml\"\n",
    "model_config_path = \"../gradio/app_files/config/prod/data_config_ui.yaml\"\n",
    "\n",
    "chat_ins = ChatUI(user_config_path=user_config_path,data_config_path=data_config_path,model_config_path=model_config_path)\n",
    "\n",
    "chat_ins.run_chat_ui()"
   ]
  },
  {
   "cell_type": "code",
   "execution_count": null,
   "metadata": {},
   "outputs": [],
   "source": []
  }
 ],
 "metadata": {
  "kernelspec": {
   "display_name": "query_insights",
   "language": "python",
   "name": "python3"
  },
  "language_info": {
   "codemirror_mode": {
    "name": "ipython",
    "version": 3
   },
   "file_extension": ".py",
   "mimetype": "text/x-python",
   "name": "python",
   "nbconvert_exporter": "python",
   "pygments_lexer": "ipython3",
   "version": "3.10.9"
  },
  "orig_nbformat": 4
 },
 "nbformat": 4,
 "nbformat_minor": 2
}
