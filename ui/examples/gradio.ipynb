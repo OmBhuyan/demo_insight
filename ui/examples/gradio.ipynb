{
 "cells": [
  {
   "cell_type": "code",
   "execution_count": 1,
   "metadata": {},
   "outputs": [
    {
     "name": "stderr",
     "output_type": "stream",
     "text": [
      "/home/pavan/miniconda3/envs/venv/lib/python3.8/site-packages/tqdm/auto.py:21: TqdmWarning: IProgress not found. Please update jupyter and ipywidgets. See https://ipywidgets.readthedocs.io/en/stable/user_install.html\n",
      "  from .autonotebook import tqdm as notebook_tqdm\n"
     ]
    }
   ],
   "source": [
    "import textwrap\n",
    "import time\n",
    "import sys\n",
    "\n",
    "import gradio as gr\n",
    "\n",
    "from query_insights.api import QueryInsights, config_init\n",
    "\n",
    "sys.path.insert(0,\"../gradio/app_files\")\n",
    "from app import ChatUI"
   ]
  },
  {
   "cell_type": "code",
   "execution_count": 2,
   "metadata": {},
   "outputs": [
    {
     "name": "stdout",
     "output_type": "stream",
     "text": [
      "Running on local URL:  http://127.0.0.1:7861\n",
      "\n",
      "To create a public link, set `share=True` in `launch()`.\n"
     ]
    },
    {
     "data": {
      "text/html": [
       "<div><iframe src=\"http://127.0.0.1:7861/\" width=\"100%\" height=\"500\" allow=\"autoplay; camera; microphone; clipboard-read; clipboard-write;\" frameborder=\"0\" allowfullscreen></iframe></div>"
      ],
      "text/plain": [
       "<IPython.core.display.HTML object>"
      ]
     },
     "metadata": {},
     "output_type": "display_data"
    }
   ],
   "source": [
    "# config_path = \"/mnt/d/query_to_insight/query_insights_generator/examples/end_to_end/config/config.yaml\"\n",
    "user_config_path = \"../gradio/app_files/config/local/data_config_ui.yaml\"\n",
    "data_config_path = \"../gradio/app_files/config/local/data_config_ui.yaml\"\n",
    "model_config_path = \"../gradio/app_files/config/local/data_config_ui.yaml\"\n",
    "debug_config_path = \"../../configs/debug_code_config.yaml\"\n",
    "\n",
    "user_config, data_config, model_config, debug_config = config_init(user_config_path, data_config_path, model_config_path, debug_config_path)\n",
    "\n",
    "chat_ins = ChatUI(\n",
    "    user_config=user_config,\n",
    "    data_config=data_config,\n",
    "    model_config=model_config,\n",
    "    debug_config=debug_config,\n",
    ")\n",
    "\n",
    "chat_ins.run_chat_ui()"
   ]
  },
  {
   "cell_type": "code",
   "execution_count": null,
   "metadata": {},
   "outputs": [],
   "source": []
  }
 ],
 "metadata": {
  "kernelspec": {
   "display_name": "query_insights",
   "language": "python",
   "name": "python3"
  },
  "language_info": {
   "codemirror_mode": {
    "name": "ipython",
    "version": 3
   },
   "file_extension": ".py",
   "mimetype": "text/x-python",
   "name": "python",
   "nbconvert_exporter": "python",
   "pygments_lexer": "ipython3",
   "version": "3.8.17"
  },
  "orig_nbformat": 4
 },
 "nbformat": 4,
 "nbformat_minor": 2
}
