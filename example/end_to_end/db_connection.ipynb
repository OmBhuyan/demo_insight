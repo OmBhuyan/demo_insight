{
   "cells": [
      {
         "cell_type": "code",
         "execution_count": 1,
         "metadata": {},
         "outputs": [
            {
               "name": "stderr",
               "output_type": "stream",
               "text": [
                  "2023-08-04 15:57:30.653347: I tensorflow/core/platform/cpu_feature_guard.cc:193] This TensorFlow binary is optimized with oneAPI Deep Neural Network Library (oneDNN) to use the following CPU instructions in performance-critical operations:  AVX2 AVX512F AVX512_VNNI FMA\n",
                  "To enable them in other operations, rebuild TensorFlow with the appropriate compiler flags.\n",
                  "2023-08-04 15:57:31.246494: I tensorflow/core/util/util.cc:169] oneDNN custom operations are on. You may see slightly different numerical results due to floating-point round-off errors from different computation orders. To turn them off, set the environment variable `TF_ENABLE_ONEDNN_OPTS=0`.\n",
                  "2023-08-04 15:57:31.271780: W tensorflow/stream_executor/platform/default/dso_loader.cc:64] Could not load dynamic library 'libcudart.so.11.0'; dlerror: libcudart.so.11.0: cannot open shared object file: No such file or directory\n",
                  "2023-08-04 15:57:31.271842: I tensorflow/stream_executor/cuda/cudart_stub.cc:29] Ignore above cudart dlerror if you do not have a GPU set up on your machine.\n",
                  "2023-08-04 15:57:31.396551: E tensorflow/stream_executor/cuda/cuda_blas.cc:2981] Unable to register cuBLAS factory: Attempting to register factory for plugin cuBLAS when one has already been registered\n",
                  "2023-08-04 15:57:34.095153: W tensorflow/stream_executor/platform/default/dso_loader.cc:64] Could not load dynamic library 'libnvinfer.so.7'; dlerror: libnvinfer.so.7: cannot open shared object file: No such file or directory\n",
                  "2023-08-04 15:57:34.095388: W tensorflow/stream_executor/platform/default/dso_loader.cc:64] Could not load dynamic library 'libnvinfer_plugin.so.7'; dlerror: libnvinfer_plugin.so.7: cannot open shared object file: No such file or directory\n",
                  "2023-08-04 15:57:34.095410: W tensorflow/compiler/tf2tensorrt/utils/py_utils.cc:38] TF-TRT Warning: Cannot dlopen some TensorRT libraries. If you would like to use Nvidia GPU with TensorRT, please make sure the missing libraries mentioned above are installed properly.\n",
                  "2023-08-04 15:57:35.869345: W tensorflow/stream_executor/platform/default/dso_loader.cc:64] Could not load dynamic library 'libcuda.so.1'; dlerror: libcuda.so.1: cannot open shared object file: No such file or directory\n",
                  "2023-08-04 15:57:35.869452: W tensorflow/stream_executor/cuda/cuda_driver.cc:263] failed call to cuInit: UNKNOWN ERROR (303)\n",
                  "2023-08-04 15:57:35.869490: I tensorflow/stream_executor/cuda/cuda_diagnostics.cc:156] kernel driver does not appear to be running on this host (TIGER01292): /proc/driver/nvidia/version does not exist\n"
               ]
            }
         ],
         "source": [
            "import os\n",
            "import pandas as pd\n",
            "import sqlite3\n",
            "from query_insights.utils import read_and_process_data,load_config\n",
            "from query_insights.db_loading import DatabaseLoading"
         ]
      },
      {
         "cell_type": "code",
         "execution_count": 2,
         "metadata": {},
         "outputs": [],
         "source": [
            "# Switch data_config.yaml to data_config_azure.yaml to access blob storage\n",
            "data_config_path = \"../../configs/local/data_config.yaml\"\n",
            "user_config_path = \"../../configs/local/user_config.yaml\"\n",
            "model_config_path = \"../../configs/model_config.yaml\"\n",
            "\n",
            "# config_path = r'D:\\Projects\\Code_templates\\NLP\\query_insights\\query_insights_generator\\ui\\gradio\\app_files\\config\\dev\\config_ui.yaml'"
         ]
      },
      {
         "cell_type": "code",
         "execution_count": 3,
         "metadata": {},
         "outputs": [],
         "source": [
            "data_config = load_config(cfg_file=data_config_path)\n",
            "user_config = load_config(cfg_file=user_config_path)\n",
            "model_config = load_config(cfg_file=model_config_path)"
         ]
      },
      {
         "cell_type": "code",
         "execution_count": 4,
         "metadata": {},
         "outputs": [],
         "source": [
            "tables = {\n",
            "    \"invoice_data\": \"invoice_data_masked.csv\",\n",
            "    \"material_desc\": \"material_descriptions_masked.csv\",\n",
            "    \"product_data\": \"product_data_masked.csv\",\n",
            "    \"warehouse_metrics\":\"warehouse_metrics.csv\",\n",
            "    \"warehouse_metrics_monthly\":\"warehouse_metrics_monthly.csv\"\n",
            "    # \"carrier_metrics\":\"carrier_metrics.csv\",\n",
            "    # \"carrier_metrics_monthly\":\"carrier_metrics_monthly.csv\"\n",
            "}"
         ]
      },
      {
         "cell_type": "code",
         "execution_count": 5,
         "metadata": {},
         "outputs": [
            {
               "name": "stdout",
               "output_type": "stream",
               "text": [
                  "True\n",
                  "invoice_data\n",
                  "15634\n",
                  "material_desc\n",
                  "2865\n",
                  "product_data\n",
                  "260868\n",
                  "warehouse_metrics\n",
                  "42\n",
                  "warehouse_metrics_monthly\n",
                  "167\n"
               ]
            }
         ],
         "source": [
            "# tables = data_config.path.input_file_names\n",
            "database_connection = DatabaseLoading(data_config=data_config, fs_key=None)\n",
            "conn = database_connection.connection_db()\n",
            "for table in list(tables.keys()):\n",
            "    file_name = tables[table]\n",
            "    df = read_and_process_data(\n",
            "        path=os.path.join(data_config.path.input_data_path, file_name)\n",
            "    )\n",
            "    print(table)\n",
            "    print(len(df))\n",
            "    database_connection.load_to_db(df=df, table_name=table)\n"
         ]
      },
      {
         "cell_type": "code",
         "execution_count": 6,
         "metadata": {},
         "outputs": [
            {
               "data": {
                  "text/plain": [
                     "[(15634,)]"
                  ]
               },
               "execution_count": 6,
               "metadata": {},
               "output_type": "execute_result"
            }
         ],
         "source": [
            "conn = sqlite3.connect(data_config.db_params.sqlite_database_path)\n",
            "\n",
            "query =f\"\"\"SELECT COUNT(*) FROM invoice_data\"\"\"\n",
            "\n",
            "cursor = conn.cursor()\n",
            "\n",
            "cursor.execute(query)\n",
            "\n",
            "cursor.fetchall()\n",
            "\n"
         ]
      },
      {
         "cell_type": "code",
         "execution_count": null,
         "metadata": {},
         "outputs": [],
         "source": []
      }
   ],
   "metadata": {
      "kernelspec": {
         "display_name": "tigernlp",
         "language": "python",
         "name": "python3"
      },
      "language_info": {
         "codemirror_mode": {
            "name": "ipython",
            "version": 3
         },
         "file_extension": ".py",
         "mimetype": "text/x-python",
         "name": "python",
         "nbconvert_exporter": "python",
         "pygments_lexer": "ipython3",
         "version": "3.8.16"
      },
      "orig_nbformat": 4
   },
   "nbformat": 4,
   "nbformat_minor": 2
}
