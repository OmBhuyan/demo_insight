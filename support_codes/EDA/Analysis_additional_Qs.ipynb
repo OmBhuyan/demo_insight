{
 "cells": [
  {
   "cell_type": "code",
   "execution_count": 1,
   "id": "9b74d3d1",
   "metadata": {},
   "outputs": [],
   "source": [
    "import os\n",
    "import numpy as np\n",
    "import pandas as pd\n",
    "pd.set_option('display.max_columns', 500)\n",
    "pd.set_option('display.max_rows', 500)\n",
    "\n",
    "import warnings\n",
    "warnings.filterwarnings('ignore')"
   ]
  },
  {
   "cell_type": "code",
   "execution_count": 2,
   "id": "915ddad3",
   "metadata": {},
   "outputs": [],
   "source": [
    "material_data = pd.read_csv(\"../../../data/masked_data/masked_material_data.csv\")\n",
    "trips_data = pd.read_csv(\"../../../data/masked_data/masked_total_trip_data.csv\")\n",
    "\n",
    "outpath = \"../../../answers/set2/\""
   ]
  },
  {
   "cell_type": "code",
   "execution_count": 3,
   "id": "4821af53",
   "metadata": {},
   "outputs": [
    {
     "name": "stdout",
     "output_type": "stream",
     "text": [
      "(73864, 14)\n",
      "(60644, 29)\n"
     ]
    }
   ],
   "source": [
    "print(material_data.shape)\n",
    "print(trips_data.shape)"
   ]
  },
  {
   "cell_type": "code",
   "execution_count": 4,
   "id": "945a5277",
   "metadata": {},
   "outputs": [],
   "source": [
    "trips_data[\"plan_shipment_start_date_time\"] = pd.to_datetime(trips_data[\"plan_shipment_start_date_time\"],errors='coerce')\n",
    "trips_data[\"pick_start_date_time\"] = pd.to_datetime(trips_data[\"pick_start_date_time\"],errors='coerce')\n",
    "trips_data[\"plan_delivery_date\"] = pd.to_datetime(trips_data[\"plan_delivery_date\"],errors='coerce')\n",
    "trips_data[\"unload_date_time\"] = pd.to_datetime(trips_data[\"unload_date_time\"],errors='coerce')\n",
    "material_data[\"order_created_on\"] = pd.to_datetime(material_data[\"order_created_on\"],errors='coerce')\n",
    "trips_data[\"load_completed_date_time\"] = pd.to_datetime(trips_data[\"load_completed_date_time\"],errors='coerce')\n",
    "trips_data[\"pick_trackingdeparttime\"] = pd.to_datetime(trips_data[\"pick_trackingdeparttime\"],errors='coerce')\n",
    "trips_data[\"pick_end_date_time\"] = pd.to_datetime(trips_data[\"pick_end_date_time\"],errors='coerce')\n",
    "trips_data[\"drop_trackingarrivaltime\"] = pd.to_datetime(trips_data[\"drop_trackingarrivaltime\"],errors='coerce')\n"
   ]
  },
  {
   "cell_type": "code",
   "execution_count": 5,
   "id": "98e90642",
   "metadata": {},
   "outputs": [],
   "source": [
    "cols = ['plan_shipment_start_date_time', 'pick_start_date_time','pick_end_date_time', 'load_completed_date_time',\n",
    "        'pick_trackingeta', 'pick_trackingdeparttime','drop_trackingarrivaltime','drop_trackingeta','unload_date_time']\n",
    "for col in cols:\n",
    "    trips_data[col] = pd.to_datetime(trips_data[col], errors='coerce')\n",
    "    trips_data[col] = np.where(trips_data[col].dt.year<2020, np.datetime64('NaT'), trips_data[col])\n",
    "\n",
    "\n",
    "cols = ['order_created_on','plan_delivery_date']\n",
    "for col in cols:\n",
    "    material_data[col] = pd.to_datetime(material_data[col], errors='coerce')\n",
    "    material_data[col] = np.where(material_data[col].dt.year<2020, np.datetime64('NaT'), material_data[col])"
   ]
  },
  {
   "cell_type": "code",
   "execution_count": null,
   "id": "2629f426",
   "metadata": {},
   "outputs": [],
   "source": []
  },
  {
   "cell_type": "code",
   "execution_count": 6,
   "id": "41fb5809",
   "metadata": {},
   "outputs": [],
   "source": [
    "# trips_data[\"invoice_update\"] = np.where(trips_data[\"order_created_on\"].isna(),0,1)\n",
    "trips_data[\"invoice_update\"] = 1\n",
    "trips_data[\"invoice_update\"] = np.where(trips_data[\"pick_start_date_time\"].isna(),trips_data[\"invoice_update\"],2)\n",
    "trips_data[\"invoice_update\"] = np.where(trips_data[\"pick_end_date_time\"].isna(),trips_data[\"invoice_update\"],3)\n",
    "trips_data[\"invoice_update\"] = np.where(trips_data[\"load_completed_date_time\"].isna(),trips_data[\"invoice_update\"],4)\n",
    "trips_data[\"invoice_update\"] = np.where(trips_data[\"pick_trackingdeparttime\"].isna(),trips_data[\"invoice_update\"],5)\n",
    "trips_data[\"invoice_update\"] = np.where(trips_data[\"drop_trackingarrivaltime\"].isna(),trips_data[\"invoice_update\"],6)\n",
    "trips_data[\"invoice_update\"] = np.where(trips_data[\"unload_date_time\"].isna(),trips_data[\"invoice_update\"],7)\n",
    "\n",
    "stage_dict = {#0: \"Order not created\",\n",
    "              1: \"Order created\",\n",
    "              2: \"Loading started\",\n",
    "              3: \"Loading Ended\",\n",
    "              4: \"In Yard\",\n",
    "              5: \"On Road\",\n",
    "              6: \"Arrived\",\n",
    "              7: \"Unloaded\"\n",
    "              }\n",
    "\n",
    "trips_data['stage'] = trips_data[\"invoice_update\"].map(stage_dict)"
   ]
  },
  {
   "cell_type": "code",
   "execution_count": 7,
   "id": "ff7088cf",
   "metadata": {},
   "outputs": [
    {
     "data": {
      "text/plain": [
       "Unloaded           54154\n",
       "Order created       2533\n",
       "In Yard             1733\n",
       "Arrived             1303\n",
       "Loading started      598\n",
       "On Road              276\n",
       "Loading Ended         47\n",
       "Name: stage, dtype: int64"
      ]
     },
     "execution_count": 7,
     "metadata": {},
     "output_type": "execute_result"
    }
   ],
   "source": [
    "trips_data['stage'].value_counts()"
   ]
  },
  {
   "cell_type": "code",
   "execution_count": null,
   "id": "c3ee2455",
   "metadata": {},
   "outputs": [],
   "source": [
    "material_data.to_csv(\"../../../data/masked_data/masked_material_data_upd.csv\", index=False)\n",
    "trips_data.to_csv(\"../../../data/masked_data/masked_total_trip_data_upd.csv\", index=False)\n"
   ]
  },
  {
   "attachments": {},
   "cell_type": "markdown",
   "id": "358bbd19",
   "metadata": {},
   "source": [
    "q1: How many trips are in loading stage currently at \"SALEM OR DC\"?"
   ]
  },
  {
   "cell_type": "code",
   "execution_count": 34,
   "id": "51a3b624",
   "metadata": {},
   "outputs": [
    {
     "data": {
      "text/plain": [
       "4"
      ]
     },
     "execution_count": 34,
     "metadata": {},
     "output_type": "execute_result"
    }
   ],
   "source": [
    "out = len(trips_data[(trips_data['source_location_name']==\"SALEM OR DC\") & (trips_data['stage']==\"Loading started\")])\n",
    "out"
   ]
  },
  {
   "attachments": {},
   "cell_type": "markdown",
   "id": "13abae7e",
   "metadata": {},
   "source": [
    "q2: How many trips are in ready to dispatch currently at SALEM OR DC?"
   ]
  },
  {
   "cell_type": "code",
   "execution_count": 35,
   "id": "3993e944",
   "metadata": {},
   "outputs": [
    {
     "data": {
      "text/plain": [
       "0"
      ]
     },
     "execution_count": 35,
     "metadata": {},
     "output_type": "execute_result"
    }
   ],
   "source": [
    "out = len(trips_data[(trips_data['source_location_name']==\"SALEM OR DC\") & (trips_data['stage']==\"Loading Ended\")])\n",
    "out"
   ]
  },
  {
   "attachments": {},
   "cell_type": "markdown",
   "id": "ea0d8b8c",
   "metadata": {},
   "source": [
    "q3: Where is the shipment 7601987451"
   ]
  },
  {
   "cell_type": "code",
   "execution_count": null,
   "id": "00e6135c",
   "metadata": {},
   "outputs": [],
   "source": []
  },
  {
   "cell_type": "code",
   "execution_count": null,
   "id": "f926ad31",
   "metadata": {},
   "outputs": [],
   "source": []
  },
  {
   "cell_type": "code",
   "execution_count": null,
   "id": "aa948c04",
   "metadata": {},
   "outputs": [],
   "source": []
  }
 ],
 "metadata": {
  "kernelspec": {
   "display_name": "Python 3 (ipykernel)",
   "language": "python",
   "name": "python3"
  },
  "language_info": {
   "codemirror_mode": {
    "name": "ipython",
    "version": 3
   },
   "file_extension": ".py",
   "mimetype": "text/x-python",
   "name": "python",
   "nbconvert_exporter": "python",
   "pygments_lexer": "ipython3",
   "version": "3.8.16"
  }
 },
 "nbformat": 4,
 "nbformat_minor": 5
}
