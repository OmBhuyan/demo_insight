{
 "cells": [
  {
   "cell_type": "code",
   "execution_count": null,
   "metadata": {},
   "outputs": [],
   "source": [
    "import os\n",
    "import pandas as pd\n",
    "import sqlite3\n",
    "\n",
    "from query_insights.utils import load_config,load_data_dictionary\n",
    "\n",
    "data_config_path = \"../../configs/local/data_config.yaml\"\n",
    "\n",
    "config = load_config(cfg_file=data_config_path)\n",
    "\n",
    "# Connect to the SQLite database\n",
    "conn = sqlite3.connect(config.db_params.sqlite_database_path)\n",
    "\n",
    "# Specify the name of the table to extract\n",
    "table_name = 'invoice_data'\n",
    "\n",
    "# Get the list of columns with text values from the SQLite table\n",
    "text_columns = []\n",
    "cursor = conn.execute(f\"PRAGMA table_info({table_name})\")\n",
    "for column_info in cursor:\n",
    "    if column_info[2] == 'TEXT':\n",
    "        text_columns.append(column_info[1])\n",
    "\n",
    "# Load the data dictionary from json file\n",
    "# with open(r\"C:\\Users\\chetan.subramani\\Downloads\\yf_data\\invoice_data.json\", 'r') as f:\n",
    "#     data_dict = json.load(f)\n",
    "\n",
    "data_dict = load_data_dictionary(os.path.join(config.path.data_dictionary_path, f\"{table_name}.json\"))\n",
    "    \n",
    "# Loop through each string column in DataFrame and update the data dictionary\n",
    "for col in text_columns:\n",
    "    unique_values = pd.read_sql(f\"SELECT distinct {col} FROM {table_name}\", conn).values.ravel().tolist()\n",
    "    if len(unique_values) < 10:\n",
    "        # unique_values = df[col].unique().tolist()\n",
    "        for column in data_dict['columns']:\n",
    "            if column['name'] == col:\n",
    "                print(col)\n",
    "                column['unique_values'] = unique_values\n",
    "                break\n",
    "\n",
    "# Save the updated data dictionary to json file\n",
    "# with open('yf_data_dict.json', 'w') as f:\n",
    "#     json.dump(data_dict, f, indent=4)\n"
   ]
  }
 ],
 "metadata": {
  "language_info": {
   "name": "python"
  },
  "orig_nbformat": 4
 },
 "nbformat": 4,
 "nbformat_minor": 2
}
