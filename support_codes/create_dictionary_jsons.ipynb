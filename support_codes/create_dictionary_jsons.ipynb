{
 "cells": [
  {
   "cell_type": "code",
   "execution_count": 1,
   "metadata": {},
   "outputs": [],
   "source": [
    "import json\n",
    "import fsspec\n",
    "\n",
    "from query_insights.utils import read_and_process_data"
   ]
  },
  {
   "cell_type": "code",
   "execution_count": null,
   "metadata": {},
   "outputs": [],
   "source": [
    "data_dict_table_path = \"../data/data_dictionary/raw/\"\n",
    "output_json_file_path = \"../data/data_dictionary/\"\n",
    "\n",
    "# Give the list of input files (csv/xlsx) that contains two columns [column_name, column_description]. JSON file names will be same as the input file names\n",
    "file_names = [\"invoice_data.csv\"]"
   ]
  },
  {
   "cell_type": "code",
   "execution_count": 2,
   "metadata": {},
   "outputs": [],
   "source": [
    "\n",
    "def json_file_generator(\n",
    "    data_dict_table_path,\n",
    "    file_name,\n",
    "    output_json_file_path,\n",
    "    fs=None,\n",
    "    **kwargs,\n",
    "):\n",
    "    \"\"\"\n",
    "    generate a json file named `<file_name>.json` from a data dictionary file\n",
    "\n",
    "    Parameters\n",
    "    ----------\n",
    "    data_dict_table_path : str\n",
    "        input folder path containing the data dictionary (csv/xlsx) file\n",
    "    file_name : str\n",
    "        name of the data dictionary (csv/xlsx) file.\n",
    "    output_json_file_path : str\n",
    "        output folder path where the JSON files will be saved.\n",
    "    fs : fsspec.filesystem, optional\n",
    "        Filesystem of the url, by default ``None``\n",
    "\n",
    "    Returns\n",
    "    -------\n",
    "    None\n",
    "    \"\"\"\n",
    "    fs = fs or fsspec.filesystem(\"file\")\n",
    "    out_dict = {}\n",
    "    ls = []\n",
    "    df = read_and_process_data(pp.join(data_dict_table_path, file_name))[[\"column_name\", \"column_description\"]]\n",
    "    \n",
    "    pattern = re.compile(r\"[^\\w]\")\n",
    "    \n",
    "    df['column_name'] = [col.lower().replace(\" \", \"_\") for col in df['column_name']]\n",
    "    df['column_name'] = [pattern.sub(\"_\", col) for col in df['column_name']]\n",
    "\n",
    "    mapp = dict(df.values)\n",
    "\n",
    "    for key, val in mapp.items():\n",
    "        ls.append({\"column_name\": key, \"column_description\": val})\n",
    "    out_dict[\"table_name\"] = file_name.split(\".\")[0]\n",
    "    out_dict[\"columns\"] = ls\n",
    "    with fs.open(pp.join(output_json_file_path, f\"{out_dict['table_name']}.json\"), \"w\") as f:\n",
    "        json.dump(out_dict, f, indent=4, **kwargs)\n"
   ]
  },
  {
   "cell_type": "code",
   "execution_count": null,
   "metadata": {},
   "outputs": [],
   "source": [
    "for file_name in file_names:\n",
    "    json_file_generator(data_dict_table_path, file_name, output_json_file_path)"
   ]
  }
 ],
 "metadata": {
  "kernelspec": {
   "display_name": "query_insights",
   "language": "python",
   "name": "python3"
  },
  "language_info": {
   "codemirror_mode": {
    "name": "ipython",
    "version": 3
   },
   "file_extension": ".py",
   "mimetype": "text/x-python",
   "name": "python",
   "nbconvert_exporter": "python",
   "pygments_lexer": "ipython3",
   "version": "3.8.16"
  },
  "orig_nbformat": 4
 },
 "nbformat": 4,
 "nbformat_minor": 2
}
