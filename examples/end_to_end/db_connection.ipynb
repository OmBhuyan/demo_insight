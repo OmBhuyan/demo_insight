{
   "cells": [
      {
         "cell_type": "code",
         "execution_count": 1,
         "metadata": {},
         "outputs": [],
         "source": [
            "import os\n",
            "import pandas as pd\n",
            "import sqlite3\n",
            "from query_insights.utils import read_and_process_data,load_config\n",
            "from query_insights.db_loading import DatabaseLoading"
         ]
      },
      {
         "cell_type": "code",
         "execution_count": 2,
         "metadata": {},
         "outputs": [],
         "source": [
            "# Switch data_config.yaml to data_config_azure.yaml to access blob storage\n",
            "data_config_path = \"../../configs/local/data_config.yaml\"\n",
            "user_config_path = \"../../configs/local/user_config.yaml\"\n",
            "model_config_path = \"../../configs/model_config.yaml\"\n",
            "\n",
            "# config_path = r'D:\\Projects\\Code_templates\\NLP\\query_insights\\query_insights_generator\\ui\\gradio\\app_files\\config\\dev\\config_ui.yaml'"
         ]
      },
      {
         "cell_type": "code",
         "execution_count": 3,
         "metadata": {},
         "outputs": [],
         "source": [
            "data_config = load_config(cfg_file=data_config_path)\n",
            "user_config = load_config(cfg_file=user_config_path)\n",
            "model_config = load_config(cfg_file=model_config_path)"
         ]
      },
      {
         "cell_type": "code",
         "execution_count": 4,
         "metadata": {},
         "outputs": [
            {
               "name": "stdout",
               "output_type": "stream",
               "text": [
                  "invoice_data\n",
                  "15634\n",
                  "material_desc\n",
                  "2865\n",
                  "product_data\n",
                  "260868\n"
               ]
            }
         ],
         "source": [
            "tables = data_config.path.input_file_names\n",
            "database_connection = DatabaseLoading(user_config=user_config,data_config=data_config,model_config=model_config)\n",
            "conn = database_connection.connection_db()\n",
            "for table in list(tables.keys()):\n",
            "    file_name = tables[table]\n",
            "    df = read_and_process_data(\n",
            "        path=os.path.join(data_config.path.input_data_path, file_name)\n",
            "    )\n",
            "    print(table)\n",
            "    print(len(df))\n",
            "    database_connection.load_to_db(df=df, table_name=table)\n"
         ]
      },
      {
         "cell_type": "code",
         "execution_count": 5,
         "metadata": {},
         "outputs": [
            {
               "data": {
                  "text/plain": [
                     "[(15634,)]"
                  ]
               },
               "execution_count": 5,
               "metadata": {},
               "output_type": "execute_result"
            }
         ],
         "source": [
            "conn = sqlite3.connect(data_config.db_params.sqlite_database_path)\n",
            "\n",
            "query =f\"\"\"SELECT COUNT(*) FROM invoice_data\"\"\"\n",
            "\n",
            "cursor = conn.cursor()\n",
            "\n",
            "cursor.execute(query)\n",
            "\n",
            "cursor.fetchall()\n",
            "\n"
         ]
      }
   ],
   "metadata": {
      "kernelspec": {
         "display_name": "tigernlp",
         "language": "python",
         "name": "python3"
      },
      "language_info": {
         "codemirror_mode": {
            "name": "ipython",
            "version": 3
         },
         "file_extension": ".py",
         "mimetype": "text/x-python",
         "name": "python",
         "nbconvert_exporter": "python",
         "pygments_lexer": "ipython3",
         "version": "3.8.16"
      },
      "orig_nbformat": 4
   },
   "nbformat": 4,
   "nbformat_minor": 2
}
