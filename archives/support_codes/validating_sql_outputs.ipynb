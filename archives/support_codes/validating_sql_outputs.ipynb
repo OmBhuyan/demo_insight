{
 "cells": [
  {
   "cell_type": "code",
   "execution_count": 1,
   "metadata": {},
   "outputs": [],
   "source": [
    "import pandas as pd\n",
    "import sqlite3\n",
    "\n",
    "conn = sqlite3.connect('example.db')\n"
   ]
  },
  {
   "cell_type": "code",
   "execution_count": null,
   "metadata": {},
   "outputs": [],
   "source": [
    "def compare_query_outputs(query1, query2, conn):\n",
    "\n",
    "    df1 = pd.read_sql_query(query1, conn)\n",
    "    df2 = pd.read_sql_query(query2, conn)\n",
    "\n",
    "    df1 = df1.sort_values(by=sorted(df1.columns.tolist()))\n",
    "    df2 = df2.sort_values(by=sorted(df2.columns.tolist()))\n",
    "\n",
    "    out = [df1.equals(df2), len(df1) == len(df2), df1.shape()[1]==df2.shape()[1]]\n",
    "\n",
    "    return out\n"
   ]
  },
  {
   "cell_type": "code",
   "execution_count": 1,
   "metadata": {},
   "outputs": [],
   "source": [
    "expected_query = \"\"\n",
    "generated_query = \"\"\n",
    "overall, row_count, column_count = compare_query_outputs(expected_query, generated_query, conn)"
   ]
  },
  {
   "cell_type": "code",
   "execution_count": null,
   "metadata": {},
   "outputs": [],
   "source": []
  }
 ],
 "metadata": {
  "kernelspec": {
   "display_name": "query_insights",
   "language": "python",
   "name": "python3"
  },
  "language_info": {
   "codemirror_mode": {
    "name": "ipython",
    "version": 3
   },
   "file_extension": ".py",
   "mimetype": "text/x-python",
   "name": "python",
   "nbconvert_exporter": "python",
   "pygments_lexer": "ipython3",
   "version": "3.8.16"
  },
  "orig_nbformat": 4
 },
 "nbformat": 4,
 "nbformat_minor": 2
}
